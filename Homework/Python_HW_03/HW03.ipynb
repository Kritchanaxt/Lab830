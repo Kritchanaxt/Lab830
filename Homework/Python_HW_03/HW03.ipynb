{
 "cells": [
  {
   "cell_type": "code",
   "execution_count": 3,
   "metadata": {},
   "outputs": [
    {
     "name": "stdout",
     "output_type": "stream",
     "text": [
      "Sorted array v3: [11, 12, 22, 25, 34, 64, 90]\n",
      "Total loops v3: 21\n",
      "Total swaps v3: 14\n",
      "Swap positions v3: [(0, 1), (1, 2), (2, 3), (3, 4), (4, 5), (0, 1), (1, 2), (2, 3), (3, 4), (0, 1), (1, 2), (2, 3), (1, 2), (0, 1)]\n"
     ]
    }
   ],
   "source": [
    "def bubble_sort_v3(arr):\n",
    "    n = len(arr)\n",
    "    count_loops = 0\n",
    "    swap_count = 0\n",
    "    swap_positions = []\n",
    "\n",
    "    def swap(i, j):\n",
    "        nonlocal swap_count\n",
    "        arr[i], arr[j] = arr[j], arr[i]\n",
    "        swap_positions.append((i, j))\n",
    "        swap_count += 1\n",
    "\n",
    "    for i in range(n):\n",
    "        for j in range(0, n - i - 1):\n",
    "            count_loops += 1\n",
    "            if arr[j] > arr[j + 1]:\n",
    "                swap(j, j + 1)\n",
    "\n",
    "    return arr, count_loops, swap_count, swap_positions\n",
    "\n",
    "arr = [64, 34, 25, 12, 22, 11, 90]\n",
    "sorted_arr, total_loops, total_swaps, swap_positions = bubble_sort_v3(arr)\n",
    "print(f\"Sorted array v3: {sorted_arr}\")\n",
    "print(f\"Total loops v3: {total_loops}\")\n",
    "print(f\"Total swaps v3: {total_swaps}\")\n",
    "print(f\"Swap positions v3: {swap_positions}\")\n"
   ]
  }
 ],
 "metadata": {
  "kernelspec": {
   "display_name": "Python 3",
   "language": "python",
   "name": "python3"
  },
  "language_info": {
   "codemirror_mode": {
    "name": "ipython",
    "version": 3
   },
   "file_extension": ".py",
   "mimetype": "text/x-python",
   "name": "python",
   "nbconvert_exporter": "python",
   "pygments_lexer": "ipython3",
   "version": "3.12.4"
  }
 },
 "nbformat": 4,
 "nbformat_minor": 2
}
